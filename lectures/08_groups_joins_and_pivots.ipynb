{
 "cells": [
  {
   "attachments": {},
   "cell_type": "markdown",
   "id": "cell-lec09-0",
   "metadata": {},
   "source": [
    "# Groups, joins, and pivots #"
   ]
  },
  {
   "cell_type": "code",
   "execution_count": 2,
   "id": "cell-lec09-1",
   "metadata": {},
   "outputs": [],
   "source": [
    "from datascience import *\n",
    "import numpy as np\n",
    "\n",
    "%matplotlib inline\n",
    "import matplotlib.pyplot as plots\n",
    "plots.style.use('fivethirtyeight')"
   ]
  },
  {
   "attachments": {},
   "cell_type": "markdown",
   "id": "cell-lec09-2",
   "metadata": {},
   "source": [
    "## Classifying movies ##"
   ]
  },
  {
   "cell_type": "code",
   "execution_count": null,
   "id": "cell-lec09-3",
   "metadata": {},
   "outputs": [],
   "source": [
    "top_movies = Table.read_table('top_movies_2017.csv')\n",
    "top_movies"
   ]
  },
  {
   "cell_type": "code",
   "execution_count": null,
   "id": "cell-lec09-4",
   "metadata": {},
   "outputs": [],
   "source": [
    "top_movies.group('Studio')"
   ]
  },
  {
   "cell_type": "code",
   "execution_count": null,
   "id": "1f98359a-8ede-4a73-b186-505f311a4241",
   "metadata": {},
   "outputs": [],
   "source": [
    "# The following code finds the gross revenue in total\n",
    "# over all movies released by a studio. Unpack this code \n",
    "# and understand it before moving on to the next part!\n",
    "\n",
    "top_movies.select('Studio', 'Gross').group('Studio', collect=sum)"
   ]
  },
  {
   "cell_type": "code",
   "execution_count": null,
   "id": "d3da84ba-ba3a-4c56-9d50-16c5c419ae1b",
   "metadata": {},
   "outputs": [],
   "source": [
    "# Exercise: \n",
    "# Make a scatter plot of the count of top movies released by year, \n",
    "# counting only movies released after 2000.\n",
    "..."
   ]
  },
  {
   "cell_type": "code",
   "execution_count": null,
   "id": "f2e74371-aaae-485d-ab32-f85d7aec5c3c",
   "metadata": {},
   "outputs": [],
   "source": [
    "# More challenging: We're going to make a scatter chart \n",
    "# of the adjusted gross for the TOP movie released in each year.\n",
    "\n",
    "# Make a table which ONLY has columns for year and adjusted gross.\n",
    "small_table = ...\n",
    "\n",
    "# Make a table which groups things by year and uses COLLECT\n",
    "# to find the highest grossing movie that year.\n",
    "highest_grossing_by_year = ..."
   ]
  },
  {
   "cell_type": "markdown",
   "id": "14923e64-3ac6-452a-87f2-b0dfbff26bdc",
   "metadata": {},
   "source": [
    "## Cross-Classifying"
   ]
  },
  {
   "cell_type": "code",
   "execution_count": 3,
   "id": "300c7505-3b55-456a-8a7e-23f384931d07",
   "metadata": {},
   "outputs": [
    {
     "data": {
      "text/html": [
       "<table border=\"1\" class=\"dataframe\">\n",
       "    <thead>\n",
       "        <tr>\n",
       "            <th>Flavor</th> <th>Color</th> <th>Price</th>\n",
       "        </tr>\n",
       "    </thead>\n",
       "    <tbody>\n",
       "        <tr>\n",
       "            <td>strawberry</td> <td>pink       </td> <td>3.55 </td>\n",
       "        </tr>\n",
       "        <tr>\n",
       "            <td>chocolate </td> <td>light brown</td> <td>4.75 </td>\n",
       "        </tr>\n",
       "        <tr>\n",
       "            <td>chocolate </td> <td>dark brown </td> <td>5.25 </td>\n",
       "        </tr>\n",
       "        <tr>\n",
       "            <td>strawberry</td> <td>pink       </td> <td>5.25 </td>\n",
       "        </tr>\n",
       "        <tr>\n",
       "            <td>chocolate </td> <td>dark brown </td> <td>5.25 </td>\n",
       "        </tr>\n",
       "        <tr>\n",
       "            <td>bubblegum </td> <td>pink       </td> <td>4.75 </td>\n",
       "        </tr>\n",
       "    </tbody>\n",
       "</table>"
      ],
      "text/plain": [
       "Flavor     | Color       | Price\n",
       "strawberry | pink        | 3.55\n",
       "chocolate  | light brown | 4.75\n",
       "chocolate  | dark brown  | 5.25\n",
       "strawberry | pink        | 5.25\n",
       "chocolate  | dark brown  | 5.25\n",
       "bubblegum  | pink        | 4.75"
      ]
     },
     "execution_count": 3,
     "metadata": {},
     "output_type": "execute_result"
    }
   ],
   "source": [
    "# Load ice cream data\n",
    "cones = Table.read_table('cones.csv')\n",
    "cones"
   ]
  },
  {
   "cell_type": "code",
   "execution_count": 6,
   "id": "d8601b34-026f-4cfe-8713-44b230c25251",
   "metadata": {},
   "outputs": [
    {
     "data": {
      "text/plain": [
       "\u001b[0;31mSignature:\u001b[0m \u001b[0mTable\u001b[0m\u001b[0;34m.\u001b[0m\u001b[0mgroup\u001b[0m\u001b[0;34m(\u001b[0m\u001b[0mself\u001b[0m\u001b[0;34m,\u001b[0m \u001b[0mcolumn_or_label\u001b[0m\u001b[0;34m,\u001b[0m \u001b[0mcollect\u001b[0m\u001b[0;34m=\u001b[0m\u001b[0;32mNone\u001b[0m\u001b[0;34m)\u001b[0m\u001b[0;34m\u001b[0m\u001b[0;34m\u001b[0m\u001b[0m\n",
       "\u001b[0;31mDocstring:\u001b[0m\n",
       "Group rows by unique values in a column; count or aggregate others.\n",
       "\n",
       "Args:\n",
       "    ``column_or_label``: values to group (column label or index, or array)\n",
       "\n",
       "    ``collect``: a function applied to values in other columns for each group\n",
       "\n",
       "Returns:\n",
       "    A Table with each row corresponding to a unique value in ``column_or_label``,\n",
       "    where the first column contains the unique values from ``column_or_label``, and the\n",
       "    second contains counts for each of the unique values. If ``collect`` is\n",
       "    provided, a Table is returned with all original columns, each containing values\n",
       "    calculated by first grouping rows according to ``column_or_label``, then applying\n",
       "    ``collect`` to each set of grouped values in the other columns.\n",
       "\n",
       "Note:\n",
       "    The grouped column will appear first in the result table. If ``collect`` does not\n",
       "    accept arguments with one of the column types, that column will be empty in the resulting\n",
       "    table.\n",
       "\n",
       ">>> marbles = Table().with_columns(\n",
       "...    \"Color\", make_array(\"Red\", \"Green\", \"Blue\", \"Red\", \"Green\", \"Green\"),\n",
       "...    \"Shape\", make_array(\"Round\", \"Rectangular\", \"Rectangular\", \"Round\", \"Rectangular\", \"Round\"),\n",
       "...    \"Amount\", make_array(4, 6, 12, 7, 9, 2),\n",
       "...    \"Price\", make_array(1.30, 1.30, 2.00, 1.75, 1.40, 1.00))\n",
       ">>> marbles\n",
       "Color | Shape       | Amount | Price\n",
       "Red   | Round       | 4      | 1.3\n",
       "Green | Rectangular | 6      | 1.3\n",
       "Blue  | Rectangular | 12     | 2\n",
       "Red   | Round       | 7      | 1.75\n",
       "Green | Rectangular | 9      | 1.4\n",
       "Green | Round       | 2      | 1\n",
       ">>> marbles.group(\"Color\") # just gives counts\n",
       "Color | count\n",
       "Blue  | 1\n",
       "Green | 3\n",
       "Red   | 2\n",
       ">>> marbles.group(\"Color\", max) # takes the max of each grouping, in each column\n",
       "Color | Shape max   | Amount max | Price max\n",
       "Blue  | Rectangular | 12         | 2\n",
       "Green | Round       | 9          | 1.4\n",
       "Red   | Round       | 7          | 1.75\n",
       ">>> marbles.group(\"Shape\", sum) # sum doesn't make sense for strings\n",
       "Shape       | Color sum | Amount sum | Price sum\n",
       "Rectangular |           | 27         | 4.7\n",
       "Round       |           | 13         | 4.05\n",
       "\u001b[0;31mFile:\u001b[0m      /opt/homebrew/lib/python3.11/site-packages/datascience/tables.py\n",
       "\u001b[0;31mType:\u001b[0m      function"
      ]
     },
     "metadata": {},
     "output_type": "display_data"
    }
   ],
   "source": [
    "# Group the cones by flavor, color, and both:\n",
    "#cones.group('Flavor').show()\n",
    "#cones.group('Color').show()\n",
    "\n",
    "# Try to run this line and it goes wrong!\n",
    "# cones.group('Flavor', 'Color').show()\n",
    "\n",
    "# Use this one instead:\n",
    "#cones.group(['Flavor', 'Color']).show()\n",
    "#cones.group(['Color', 'Flavor']).show()\n",
    "Table.group?"
   ]
  },
  {
   "cell_type": "code",
   "execution_count": 8,
   "id": "3db72ead-dbf4-4847-ad09-aeff826127ed",
   "metadata": {},
   "outputs": [
    {
     "data": {
      "text/plain": [
       "\u001b[0;31mSignature:\u001b[0m \u001b[0mTable\u001b[0m\u001b[0;34m.\u001b[0m\u001b[0mpivot\u001b[0m\u001b[0;34m(\u001b[0m\u001b[0mself\u001b[0m\u001b[0;34m,\u001b[0m \u001b[0mcolumns\u001b[0m\u001b[0;34m,\u001b[0m \u001b[0mrows\u001b[0m\u001b[0;34m,\u001b[0m \u001b[0mvalues\u001b[0m\u001b[0;34m=\u001b[0m\u001b[0;32mNone\u001b[0m\u001b[0;34m,\u001b[0m \u001b[0mcollect\u001b[0m\u001b[0;34m=\u001b[0m\u001b[0;32mNone\u001b[0m\u001b[0;34m,\u001b[0m \u001b[0mzero\u001b[0m\u001b[0;34m=\u001b[0m\u001b[0;32mNone\u001b[0m\u001b[0;34m)\u001b[0m\u001b[0;34m\u001b[0m\u001b[0;34m\u001b[0m\u001b[0m\n",
       "\u001b[0;31mDocstring:\u001b[0m\n",
       "Generate a table with a column for each unique value in ``columns``,\n",
       "with rows for each unique value in ``rows``. Each row counts/aggregates\n",
       "the values that match both row and column based on ``collect``.\n",
       "\n",
       "Args:\n",
       "    ``columns`` -- a single column label or index, (``str`` or ``int``),\n",
       "        used to create new columns, based on its unique values.\n",
       "    ``rows`` -- row labels or indices, (``str`` or ``int`` or list),\n",
       "        used to create new rows based on it's unique values.\n",
       "    ``values`` -- column label in table for use in aggregation.\n",
       "        Default None.\n",
       "    ``collect`` -- aggregation function, used to group ``values``\n",
       "        over row-column combinations. Default None.\n",
       "    ``zero`` -- zero value to use for non-existent row-column\n",
       "        combinations.\n",
       "\n",
       "Raises:\n",
       "    TypeError -- if ``collect`` is passed in and ``values`` is not,\n",
       "        vice versa.\n",
       "\n",
       "Returns:\n",
       "    New pivot table, with row-column combinations, as specified, with\n",
       "    aggregated ``values`` by ``collect`` across the intersection of\n",
       "    ``columns`` and ``rows``. Simple counts provided if values and\n",
       "    collect are None, as default.\n",
       "\n",
       ">>> titanic = Table().with_columns('age', make_array(21, 44, 56, 89, 95\n",
       "...    , 40, 80, 45), 'survival', make_array(0,0,0,1, 1, 1, 0, 1),\n",
       "...    'gender',  make_array('M', 'M', 'M', 'M', 'F', 'F', 'F', 'F'),\n",
       "...    'prediction', make_array(0, 0, 1, 1, 0, 1, 0, 1))\n",
       ">>> titanic\n",
       "age  | survival | gender | prediction\n",
       "21   | 0        | M      | 0\n",
       "44   | 0        | M      | 0\n",
       "56   | 0        | M      | 1\n",
       "89   | 1        | M      | 1\n",
       "95   | 1        | F      | 0\n",
       "40   | 1        | F      | 1\n",
       "80   | 0        | F      | 0\n",
       "45   | 1        | F      | 1\n",
       ">>> titanic.pivot('survival', 'gender')\n",
       "gender | 0    | 1\n",
       "F      | 1    | 3\n",
       "M      | 3    | 1\n",
       ">>> titanic.pivot('prediction', 'gender')\n",
       "gender | 0    | 1\n",
       "F      | 2    | 2\n",
       "M      | 2    | 2\n",
       ">>> titanic.pivot('survival', 'gender', values='age', collect = np.mean)\n",
       "gender | 0       | 1\n",
       "F      | 80      | 60\n",
       "M      | 40.3333 | 89\n",
       ">>> titanic.pivot('survival', make_array('prediction', 'gender'))\n",
       "prediction | gender | 0    | 1\n",
       "0          | F      | 1    | 1\n",
       "0          | M      | 2    | 0\n",
       "1          | F      | 0    | 2\n",
       "1          | M      | 1    | 1\n",
       ">>> titanic.pivot('survival', 'gender', values = 'age')\n",
       "Traceback (most recent call last):\n",
       "   ...\n",
       "TypeError: values requires collect to be specified\n",
       ">>> titanic.pivot('survival', 'gender', collect = np.mean)\n",
       "Traceback (most recent call last):\n",
       "   ...\n",
       "TypeError: collect requires values to be specified\n",
       "\u001b[0;31mFile:\u001b[0m      /opt/homebrew/lib/python3.11/site-packages/datascience/tables.py\n",
       "\u001b[0;31mType:\u001b[0m      function"
      ]
     },
     "metadata": {},
     "output_type": "display_data"
    }
   ],
   "source": [
    "# We can use a pivot table to organize this data differently\n",
    "# by listing all possible combinations:\n",
    "cones.pivot('Flavor', 'Color')\n",
    "Table.pivot?"
   ]
  },
  {
   "cell_type": "code",
   "execution_count": 10,
   "id": "18a0f439-450d-4695-a9d4-cb774aa376cb",
   "metadata": {},
   "outputs": [
    {
     "data": {
      "text/html": [
       "<table border=\"1\" class=\"dataframe\">\n",
       "    <thead>\n",
       "        <tr>\n",
       "            <th>Flavor</th> <th>Color</th> <th>Price</th>\n",
       "        </tr>\n",
       "    </thead>\n",
       "    <tbody>\n",
       "        <tr>\n",
       "            <td>strawberry</td> <td>pink       </td> <td>3.55 </td>\n",
       "        </tr>\n",
       "        <tr>\n",
       "            <td>chocolate </td> <td>light brown</td> <td>4.75 </td>\n",
       "        </tr>\n",
       "        <tr>\n",
       "            <td>chocolate </td> <td>dark brown </td> <td>5.25 </td>\n",
       "        </tr>\n",
       "        <tr>\n",
       "            <td>strawberry</td> <td>pink       </td> <td>5.25 </td>\n",
       "        </tr>\n",
       "        <tr>\n",
       "            <td>chocolate </td> <td>dark brown </td> <td>5.25 </td>\n",
       "        </tr>\n",
       "        <tr>\n",
       "            <td>bubblegum </td> <td>pink       </td> <td>4.75 </td>\n",
       "        </tr>\n",
       "    </tbody>\n",
       "</table>"
      ],
      "text/plain": [
       "<IPython.core.display.HTML object>"
      ]
     },
     "metadata": {},
     "output_type": "display_data"
    },
    {
     "data": {
      "text/html": [
       "<table border=\"1\" class=\"dataframe\">\n",
       "    <thead>\n",
       "        <tr>\n",
       "            <th>Color</th> <th>bubblegum</th> <th>chocolate</th> <th>strawberry</th>\n",
       "        </tr>\n",
       "    </thead>\n",
       "    <tbody>\n",
       "        <tr>\n",
       "            <td>dark brown </td> <td>0        </td> <td>5.25     </td> <td>0         </td>\n",
       "        </tr>\n",
       "        <tr>\n",
       "            <td>light brown</td> <td>0        </td> <td>4.75     </td> <td>0         </td>\n",
       "        </tr>\n",
       "        <tr>\n",
       "            <td>pink       </td> <td>4.75     </td> <td>0        </td> <td>3.55      </td>\n",
       "        </tr>\n",
       "    </tbody>\n",
       "</table>"
      ],
      "text/plain": [
       "<IPython.core.display.HTML object>"
      ]
     },
     "metadata": {},
     "output_type": "display_data"
    }
   ],
   "source": [
    "# Suppose we want to look at price differences between the\n",
    "# categories instead. We can use VALUES and COLLECT to do this!\n",
    "# Note: you can use BOTH or NEITHER of these. Not just one!\n",
    "\n",
    "# This table collects the cheapest option in each category.\n",
    "cones.show()\n",
    "cones.pivot('Flavor', 'Color', values='Price', collect = min).show()"
   ]
  },
  {
   "cell_type": "code",
   "execution_count": null,
   "id": "d5fbad74-8342-4dc7-9919-5f31440bd4d6",
   "metadata": {},
   "outputs": [],
   "source": [
    "# Exercise: Write a function price_spread which takes in an \n",
    "# array and returns the difference between the maximum and \n",
    "# minimum in the array.\n",
    "def price_spread(arr):\n",
    "    ...\n",
    "\n",
    "# Make a pivot table that has the spread of prices for each option:\n",
    "# cones.pivot('Flavor', 'Color', values='Price', collect = price_spread)"
   ]
  },
  {
   "attachments": {},
   "cell_type": "markdown",
   "id": "cell-lec09-9",
   "metadata": {},
   "source": [
    "## Returning to the NBA data ##"
   ]
  },
  {
   "cell_type": "code",
   "execution_count": 12,
   "id": "a7502de9-ef05-4ec8-814d-aa0434240414",
   "metadata": {},
   "outputs": [
    {
     "data": {
      "text/html": [
       "<table border=\"1\" class=\"dataframe\">\n",
       "    <thead>\n",
       "        <tr>\n",
       "            <th>rank</th> <th>name</th> <th>position</th> <th>team</th> <th>salary</th> <th>season</th>\n",
       "        </tr>\n",
       "    </thead>\n",
       "    <tbody>\n",
       "        <tr>\n",
       "            <td>1   </td> <td>Shaquille O'Neal</td> <td>C       </td> <td>Los Angeles Lakers    </td> <td>17142000</td> <td>2000  </td>\n",
       "        </tr>\n",
       "        <tr>\n",
       "            <td>2   </td> <td>Kevin Garnett   </td> <td>PF      </td> <td>Minnesota Timberwolves</td> <td>16806000</td> <td>2000  </td>\n",
       "        </tr>\n",
       "        <tr>\n",
       "            <td>3   </td> <td>Alonzo Mourning </td> <td>C       </td> <td>Miami Heat            </td> <td>15004000</td> <td>2000  </td>\n",
       "        </tr>\n",
       "        <tr>\n",
       "            <td>4   </td> <td>Juwan Howard    </td> <td>PF      </td> <td>Washington Wizards    </td> <td>15000000</td> <td>2000  </td>\n",
       "        </tr>\n",
       "        <tr>\n",
       "            <td>5   </td> <td>Scottie Pippen  </td> <td>SF      </td> <td>Portland Trail Blazers</td> <td>14795000</td> <td>2000  </td>\n",
       "        </tr>\n",
       "        <tr>\n",
       "            <td>6   </td> <td>Karl Malone     </td> <td>PF      </td> <td>Utah Jazz             </td> <td>14000000</td> <td>2000  </td>\n",
       "        </tr>\n",
       "        <tr>\n",
       "            <td>7   </td> <td>Larry Johnson   </td> <td>F       </td> <td>New York Knicks       </td> <td>11910000</td> <td>2000  </td>\n",
       "        </tr>\n",
       "        <tr>\n",
       "            <td>8   </td> <td>Gary Payton     </td> <td>PG      </td> <td>Seattle SuperSonics   </td> <td>11020000</td> <td>2000  </td>\n",
       "        </tr>\n",
       "        <tr>\n",
       "            <td>9   </td> <td>Rasheed Wallace </td> <td>PF      </td> <td>Portland Trail Blazers</td> <td>10800000</td> <td>2000  </td>\n",
       "        </tr>\n",
       "        <tr>\n",
       "            <td>10  </td> <td>Shawn Kemp      </td> <td>C       </td> <td>Cleveland Cavaliers   </td> <td>10780000</td> <td>2000  </td>\n",
       "        </tr>\n",
       "    </tbody>\n",
       "</table>\n",
       "<p>... (9446 rows omitted)</p>"
      ],
      "text/plain": [
       "rank | name             | position | team                   | salary   | season\n",
       "1    | Shaquille O'Neal | C        | Los Angeles Lakers     | 17142000 | 2000\n",
       "2    | Kevin Garnett    | PF       | Minnesota Timberwolves | 16806000 | 2000\n",
       "3    | Alonzo Mourning  | C        | Miami Heat             | 15004000 | 2000\n",
       "4    | Juwan Howard     | PF       | Washington Wizards     | 15000000 | 2000\n",
       "5    | Scottie Pippen   | SF       | Portland Trail Blazers | 14795000 | 2000\n",
       "6    | Karl Malone      | PF       | Utah Jazz              | 14000000 | 2000\n",
       "7    | Larry Johnson    | F        | New York Knicks        | 11910000 | 2000\n",
       "8    | Gary Payton      | PG       | Seattle SuperSonics    | 11020000 | 2000\n",
       "9    | Rasheed Wallace  | PF       | Portland Trail Blazers | 10800000 | 2000\n",
       "10   | Shawn Kemp       | C        | Cleveland Cavaliers    | 10780000 | 2000\n",
       "... (9446 rows omitted)"
      ]
     },
     "execution_count": 12,
     "metadata": {},
     "output_type": "execute_result"
    }
   ],
   "source": [
    "nba = Table.read_table('nba_salaries.csv')\n",
    "nba\n",
    "#nba.where('season', 2000).select('team', 'salary').group('team', sum)"
   ]
  },
  {
   "cell_type": "code",
   "execution_count": 24,
   "id": "613c4e07-ff91-462d-90af-b2c6b110244d",
   "metadata": {},
   "outputs": [
    {
     "data": {
      "text/html": [
       "<table border=\"1\" class=\"dataframe\">\n",
       "    <thead>\n",
       "        <tr>\n",
       "            <th>team</th> <th>salary sum</th> <th>salary sum_2</th> <th>Ratio</th>\n",
       "        </tr>\n",
       "    </thead>\n",
       "    <tbody>\n",
       "        <tr>\n",
       "            <td>Chicago Bulls         </td> <td>4454000   </td> <td>133127813   </td> <td>29.8895</td>\n",
       "        </tr>\n",
       "        <tr>\n",
       "            <td>San Antonio Spurs     </td> <td>6253000   </td> <td>117647725   </td> <td>18.8146</td>\n",
       "        </tr>\n",
       "        <tr>\n",
       "            <td>Dallas Mavericks      </td> <td>9003000   </td> <td>134875092   </td> <td>14.9811</td>\n",
       "        </tr>\n",
       "        <tr>\n",
       "            <td>Toronto Raptors       </td> <td>8892000   </td> <td>127087525   </td> <td>14.2923</td>\n",
       "        </tr>\n",
       "        <tr>\n",
       "            <td>Houston Rockets       </td> <td>9593000   </td> <td>136992972   </td> <td>14.2805</td>\n",
       "        </tr>\n",
       "        <tr>\n",
       "            <td>Orlando Magic         </td> <td>10658000  </td> <td>142569592   </td> <td>13.3768</td>\n",
       "        </tr>\n",
       "        <tr>\n",
       "            <td>Sacramento Kings      </td> <td>13116000  </td> <td>143263849   </td> <td>10.9228</td>\n",
       "        </tr>\n",
       "        <tr>\n",
       "            <td>Detroit Pistons       </td> <td>15941000  </td> <td>135926827   </td> <td>8.52687</td>\n",
       "        </tr>\n",
       "        <tr>\n",
       "            <td>Indiana Pacers        </td> <td>16356000  </td> <td>137759737   </td> <td>8.42258</td>\n",
       "        </tr>\n",
       "        <tr>\n",
       "            <td>Washington Wizards    </td> <td>24375000  </td> <td>148744514   </td> <td>6.10234</td>\n",
       "        </tr>\n",
       "        <tr>\n",
       "            <td>Denver Nuggets        </td> <td>23294000  </td> <td>126841786   </td> <td>5.44526</td>\n",
       "        </tr>\n",
       "        <tr>\n",
       "            <td>Miami Heat            </td> <td>26456000  </td> <td>140371562   </td> <td>5.30585</td>\n",
       "        </tr>\n",
       "        <tr>\n",
       "            <td>Minnesota Timberwolves</td> <td>33478000  </td> <td>174907550   </td> <td>5.22455</td>\n",
       "        </tr>\n",
       "        <tr>\n",
       "            <td>Utah Jazz             </td> <td>24809000  </td> <td>129433768   </td> <td>5.21721</td>\n",
       "        </tr>\n",
       "        <tr>\n",
       "            <td>Atlanta Hawks         </td> <td>16018000  </td> <td>80573776    </td> <td>5.0302 </td>\n",
       "        </tr>\n",
       "        <tr>\n",
       "            <td>Milwaukee Bucks       </td> <td>30736000  </td> <td>140613931   </td> <td>4.57489</td>\n",
       "        </tr>\n",
       "        <tr>\n",
       "            <td>Charlotte Hornets     </td> <td>22555000  </td> <td>97428941    </td> <td>4.31962</td>\n",
       "        </tr>\n",
       "        <tr>\n",
       "            <td>Boston Celtics        </td> <td>28829000  </td> <td>119017048   </td> <td>4.12838</td>\n",
       "        </tr>\n",
       "        <tr>\n",
       "            <td>Golden State Warriors </td> <td>27678000  </td> <td>106010951   </td> <td>3.83015</td>\n",
       "        </tr>\n",
       "        <tr>\n",
       "            <td>Philadelphia 76ers    </td> <td>36748000  </td> <td>134311678   </td> <td>3.65494</td>\n",
       "        </tr>\n",
       "        <tr>\n",
       "            <td>Cleveland Cavaliers   </td> <td>27916000  </td> <td>95063965    </td> <td>3.40536</td>\n",
       "        </tr>\n",
       "        <tr>\n",
       "            <td>New York Knicks       </td> <td>34960000  </td> <td>117218296   </td> <td>3.35293</td>\n",
       "        </tr>\n",
       "        <tr>\n",
       "            <td>Los Angeles Lakers    </td> <td>40565000  </td> <td>133141878   </td> <td>3.28219</td>\n",
       "        </tr>\n",
       "        <tr>\n",
       "            <td>Phoenix Suns          </td> <td>39262000  </td> <td>109466105   </td> <td>2.78809</td>\n",
       "        </tr>\n",
       "        <tr>\n",
       "            <td>Portland Trail Blazers</td> <td>49423000  </td> <td>121737527   </td> <td>2.46318</td>\n",
       "        </tr>\n",
       "    </tbody>\n",
       "</table>"
      ],
      "text/plain": [
       "<IPython.core.display.HTML object>"
      ]
     },
     "metadata": {},
     "output_type": "display_data"
    }
   ],
   "source": [
    "# Exercise: For the 2000 season, use the group function to \n",
    "# find the total salary paid by each team. Repeat this for\n",
    "# the 2020 season.\n",
    "salary_by_team_2000 = nba.where('season', 2000).select('team', 'salary').group('team', sum)\n",
    "#salary_by_team_2000\n",
    "salary_by_team_2020 = nba.where('season', 2020).select('team', 'salary').group('team', sum)\n",
    "#salary_by_team_2020\n",
    "\n",
    "# Join these two\n",
    "compared_salaries = salary_by_team_2000.join('team',          salary_by_team_2020,     'team')\n",
    "#                    Match rows in here    using this col     with rows here    using this col \n",
    "compared_salaries\n",
    "# Add a column where we look at the ratio\n",
    "compared_salaries = compared_salaries.with_column(\n",
    "    'Ratio', compared_salaries.column('salary sum_2') / compared_salaries.column('salary sum'))\n",
    "\n",
    "compared_salaries.sort('Ratio', descending=True).show()\n",
    "# Drop everything but the ratio and sort the table by the ratio. \n",
    "# Which team had the highest increase in salaries? The lowest?"
   ]
  }
 ],
 "metadata": {
  "anaconda-cloud": {},
  "kernelspec": {
   "display_name": "Python 3 (ipykernel)",
   "language": "python",
   "name": "python3"
  },
  "language_info": {
   "codemirror_mode": {
    "name": "ipython",
    "version": 3
   },
   "file_extension": ".py",
   "mimetype": "text/x-python",
   "name": "python",
   "nbconvert_exporter": "python",
   "pygments_lexer": "ipython3",
   "version": "3.11.9"
  }
 },
 "nbformat": 4,
 "nbformat_minor": 5
}
