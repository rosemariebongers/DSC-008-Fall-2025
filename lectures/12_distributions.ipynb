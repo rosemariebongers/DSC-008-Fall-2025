{
 "cells": [
  {
   "cell_type": "code",
   "execution_count": 1,
   "id": "5980d522-1ba5-4410-8c00-b6cbdfbe3096",
   "metadata": {},
   "outputs": [],
   "source": [
    "from datascience import *\n",
    "import numpy as np\n",
    "\n",
    "%matplotlib inline\n",
    "import matplotlib.pyplot as plots\n",
    "plots.style.use('fivethirtyeight')\n",
    "import warnings\n",
    "warnings.simplefilter(action='ignore',category=np.VisibleDeprecationWarning)"
   ]
  },
  {
   "cell_type": "markdown",
   "id": "a2d6f1da-cd0d-4bc1-8d68-2905efc16afd",
   "metadata": {},
   "source": [
    "## Part 1: Flight data: different sampling regimes ##"
   ]
  },
  {
   "cell_type": "code",
   "execution_count": 2,
   "id": "2c99ae1e-598e-4683-9dd4-8787ef0cb9dc",
   "metadata": {},
   "outputs": [
    {
     "data": {
      "text/html": [
       "<table border=\"1\" class=\"dataframe\">\n",
       "    <thead>\n",
       "        <tr>\n",
       "            <th>Row</th> <th>Date</th> <th>Flight Number</th> <th>Destination</th> <th>Delay</th>\n",
       "        </tr>\n",
       "    </thead>\n",
       "    <tbody>\n",
       "        <tr>\n",
       "            <td>0   </td> <td>6/1/15</td> <td>73           </td> <td>HNL        </td> <td>257  </td>\n",
       "        </tr>\n",
       "        <tr>\n",
       "            <td>1   </td> <td>6/1/15</td> <td>217          </td> <td>EWR        </td> <td>28   </td>\n",
       "        </tr>\n",
       "        <tr>\n",
       "            <td>2   </td> <td>6/1/15</td> <td>237          </td> <td>STL        </td> <td>-3   </td>\n",
       "        </tr>\n",
       "        <tr>\n",
       "            <td>3   </td> <td>6/1/15</td> <td>250          </td> <td>SAN        </td> <td>0    </td>\n",
       "        </tr>\n",
       "        <tr>\n",
       "            <td>4   </td> <td>6/1/15</td> <td>267          </td> <td>PHL        </td> <td>64   </td>\n",
       "        </tr>\n",
       "        <tr>\n",
       "            <td>5   </td> <td>6/1/15</td> <td>273          </td> <td>SEA        </td> <td>-6   </td>\n",
       "        </tr>\n",
       "        <tr>\n",
       "            <td>6   </td> <td>6/1/15</td> <td>278          </td> <td>SEA        </td> <td>-8   </td>\n",
       "        </tr>\n",
       "        <tr>\n",
       "            <td>7   </td> <td>6/1/15</td> <td>292          </td> <td>EWR        </td> <td>12   </td>\n",
       "        </tr>\n",
       "        <tr>\n",
       "            <td>8   </td> <td>6/1/15</td> <td>300          </td> <td>HNL        </td> <td>20   </td>\n",
       "        </tr>\n",
       "        <tr>\n",
       "            <td>9   </td> <td>6/1/15</td> <td>317          </td> <td>IND        </td> <td>-10  </td>\n",
       "        </tr>\n",
       "    </tbody>\n",
       "</table>\n",
       "<p>... (13815 rows omitted)</p>"
      ],
      "text/plain": [
       "Row  | Date   | Flight Number | Destination | Delay\n",
       "0    | 6/1/15 | 73            | HNL         | 257\n",
       "1    | 6/1/15 | 217           | EWR         | 28\n",
       "2    | 6/1/15 | 237           | STL         | -3\n",
       "3    | 6/1/15 | 250           | SAN         | 0\n",
       "4    | 6/1/15 | 267           | PHL         | 64\n",
       "5    | 6/1/15 | 273           | SEA         | -6\n",
       "6    | 6/1/15 | 278           | SEA         | -8\n",
       "7    | 6/1/15 | 292           | EWR         | 12\n",
       "8    | 6/1/15 | 300           | HNL         | 20\n",
       "9    | 6/1/15 | 317           | IND         | -10\n",
       "... (13815 rows omitted)"
      ]
     },
     "execution_count": 2,
     "metadata": {},
     "output_type": "execute_result"
    }
   ],
   "source": [
    "united = Table.read_table('united.csv')\n",
    "united = united.with_column('Row', np.arange(united.num_rows)).move_to_start('Row')\n",
    "united"
   ]
  },
  {
   "cell_type": "code",
   "execution_count": 3,
   "id": "79275ed8-06d3-42cd-9940-3f4e9a21eaac",
   "metadata": {},
   "outputs": [
    {
     "data": {
      "text/html": [
       "<table border=\"1\" class=\"dataframe\">\n",
       "    <thead>\n",
       "        <tr>\n",
       "            <th>Row</th> <th>Date</th> <th>Flight Number</th> <th>Destination</th> <th>Delay</th>\n",
       "        </tr>\n",
       "    </thead>\n",
       "    <tbody>\n",
       "        <tr>\n",
       "            <td>0   </td> <td>6/1/15</td> <td>73           </td> <td>HNL        </td> <td>257  </td>\n",
       "        </tr>\n",
       "        <tr>\n",
       "            <td>8   </td> <td>6/1/15</td> <td>300          </td> <td>HNL        </td> <td>20   </td>\n",
       "        </tr>\n",
       "        <tr>\n",
       "            <td>35  </td> <td>6/1/15</td> <td>663          </td> <td>HNL        </td> <td>4    </td>\n",
       "        </tr>\n",
       "        <tr>\n",
       "            <td>127 </td> <td>6/1/15</td> <td>1670         </td> <td>HNL        </td> <td>3    </td>\n",
       "        </tr>\n",
       "        <tr>\n",
       "            <td>151 </td> <td>6/2/15</td> <td>73           </td> <td>HNL        </td> <td>0    </td>\n",
       "        </tr>\n",
       "        <tr>\n",
       "            <td>158 </td> <td>6/2/15</td> <td>300          </td> <td>HNL        </td> <td>7    </td>\n",
       "        </tr>\n",
       "        <tr>\n",
       "            <td>232 </td> <td>6/2/15</td> <td>1175         </td> <td>HNL        </td> <td>25   </td>\n",
       "        </tr>\n",
       "        <tr>\n",
       "            <td>275 </td> <td>6/2/15</td> <td>1670         </td> <td>HNL        </td> <td>186  </td>\n",
       "        </tr>\n",
       "        <tr>\n",
       "            <td>297 </td> <td>6/3/15</td> <td>73           </td> <td>HNL        </td> <td>354  </td>\n",
       "        </tr>\n",
       "        <tr>\n",
       "            <td>304 </td> <td>6/3/15</td> <td>300          </td> <td>HNL        </td> <td>2    </td>\n",
       "        </tr>\n",
       "    </tbody>\n",
       "</table>\n",
       "<p>... (455 rows omitted)</p>"
      ],
      "text/plain": [
       "Row  | Date   | Flight Number | Destination | Delay\n",
       "0    | 6/1/15 | 73            | HNL         | 257\n",
       "8    | 6/1/15 | 300           | HNL         | 20\n",
       "35   | 6/1/15 | 663           | HNL         | 4\n",
       "127  | 6/1/15 | 1670          | HNL         | 3\n",
       "151  | 6/2/15 | 73            | HNL         | 0\n",
       "158  | 6/2/15 | 300           | HNL         | 7\n",
       "232  | 6/2/15 | 1175          | HNL         | 25\n",
       "275  | 6/2/15 | 1670          | HNL         | 186\n",
       "297  | 6/3/15 | 73            | HNL         | 354\n",
       "304  | 6/3/15 | 300           | HNL         | 2\n",
       "... (455 rows omitted)"
      ]
     },
     "execution_count": 3,
     "metadata": {},
     "output_type": "execute_result"
    }
   ],
   "source": [
    "# A deterministic sample\n",
    "united.where('Destination', 'HNL')"
   ]
  },
  {
   "cell_type": "code",
   "execution_count": 4,
   "id": "284a2c66-590d-4867-a8a5-5dc1abbd8c8a",
   "metadata": {},
   "outputs": [
    {
     "data": {
      "text/html": [
       "<table border=\"1\" class=\"dataframe\">\n",
       "    <thead>\n",
       "        <tr>\n",
       "            <th>Row</th> <th>Date</th> <th>Flight Number</th> <th>Destination</th> <th>Delay</th>\n",
       "        </tr>\n",
       "    </thead>\n",
       "    <tbody>\n",
       "        <tr>\n",
       "            <td>42  </td> <td>6/1/15</td> <td>715          </td> <td>PHX        </td> <td>-1   </td>\n",
       "        </tr>\n",
       "        <tr>\n",
       "            <td>142 </td> <td>6/1/15</td> <td>1753         </td> <td>MCO        </td> <td>18   </td>\n",
       "        </tr>\n",
       "        <tr>\n",
       "            <td>242 </td> <td>6/2/15</td> <td>1266         </td> <td>EWR        </td> <td>13   </td>\n",
       "        </tr>\n",
       "        <tr>\n",
       "            <td>342 </td> <td>6/3/15</td> <td>721          </td> <td>DFW        </td> <td>154  </td>\n",
       "        </tr>\n",
       "        <tr>\n",
       "            <td>442 </td> <td>6/3/15</td> <td>1922         </td> <td>EWR        </td> <td>144  </td>\n",
       "        </tr>\n",
       "        <tr>\n",
       "            <td>542 </td> <td>6/4/15</td> <td>1453         </td> <td>SEA        </td> <td>0    </td>\n",
       "        </tr>\n",
       "        <tr>\n",
       "            <td>642 </td> <td>6/5/15</td> <td>595          </td> <td>PDX        </td> <td>-9   </td>\n",
       "        </tr>\n",
       "        <tr>\n",
       "            <td>742 </td> <td>6/5/15</td> <td>1754         </td> <td>EWR        </td> <td>31   </td>\n",
       "        </tr>\n",
       "        <tr>\n",
       "            <td>842 </td> <td>6/6/15</td> <td>1535         </td> <td>KOA        </td> <td>4    </td>\n",
       "        </tr>\n",
       "        <tr>\n",
       "            <td>942 </td> <td>6/7/15</td> <td>824          </td> <td>JFK        </td> <td>-2   </td>\n",
       "        </tr>\n",
       "    </tbody>\n",
       "</table>\n",
       "<p>... (128 rows omitted)</p>"
      ],
      "text/plain": [
       "Row  | Date   | Flight Number | Destination | Delay\n",
       "42   | 6/1/15 | 715           | PHX         | -1\n",
       "142  | 6/1/15 | 1753          | MCO         | 18\n",
       "242  | 6/2/15 | 1266          | EWR         | 13\n",
       "342  | 6/3/15 | 721           | DFW         | 154\n",
       "442  | 6/3/15 | 1922          | EWR         | 144\n",
       "542  | 6/4/15 | 1453          | SEA         | 0\n",
       "642  | 6/5/15 | 595           | PDX         | -9\n",
       "742  | 6/5/15 | 1754          | EWR         | 31\n",
       "842  | 6/6/15 | 1535          | KOA         | 4\n",
       "942  | 6/7/15 | 824           | JFK         | -2\n",
       "... (128 rows omitted)"
      ]
     },
     "execution_count": 4,
     "metadata": {},
     "output_type": "execute_result"
    }
   ],
   "source": [
    "# Another deterministic sample:\n",
    "united.take(np.arange(42, united.num_rows, 100))"
   ]
  },
  {
   "cell_type": "code",
   "execution_count": 5,
   "id": "fc53e9d9-2c63-4218-8e21-a45b4d89b3f0",
   "metadata": {},
   "outputs": [
    {
     "data": {
      "text/html": [
       "<table border=\"1\" class=\"dataframe\">\n",
       "    <thead>\n",
       "        <tr>\n",
       "            <th>Row</th> <th>Date</th> <th>Flight Number</th> <th>Destination</th> <th>Delay</th>\n",
       "        </tr>\n",
       "    </thead>\n",
       "    <tbody>\n",
       "        <tr>\n",
       "            <td>15  </td> <td>6/1/15</td> <td>388          </td> <td>ORD        </td> <td>-9   </td>\n",
       "        </tr>\n",
       "        <tr>\n",
       "            <td>30  </td> <td>6/1/15</td> <td>577          </td> <td>EWR        </td> <td>-9   </td>\n",
       "        </tr>\n",
       "        <tr>\n",
       "            <td>35  </td> <td>6/1/15</td> <td>663          </td> <td>HNL        </td> <td>4    </td>\n",
       "        </tr>\n",
       "    </tbody>\n",
       "</table>"
      ],
      "text/plain": [
       "Row  | Date   | Flight Number | Destination | Delay\n",
       "15   | 6/1/15 | 388           | ORD         | -9\n",
       "30   | 6/1/15 | 577           | EWR         | -9\n",
       "35   | 6/1/15 | 663           | HNL         | 4"
      ]
     },
     "execution_count": 5,
     "metadata": {},
     "output_type": "execute_result"
    }
   ],
   "source": [
    "# A third deterministic sample:\n",
    "united.take(make_array(15, 30, 35))"
   ]
  },
  {
   "cell_type": "code",
   "execution_count": 6,
   "id": "bfbf35e5-37d7-4d4f-90af-03f8cd8a377e",
   "metadata": {},
   "outputs": [
    {
     "data": {
      "text/html": [
       "<table border=\"1\" class=\"dataframe\">\n",
       "    <thead>\n",
       "        <tr>\n",
       "            <th>Row</th> <th>Date</th> <th>Flight Number</th> <th>Destination</th> <th>Delay</th>\n",
       "        </tr>\n",
       "    </thead>\n",
       "    <tbody>\n",
       "        <tr>\n",
       "            <td>18  </td> <td>6/1/15</td> <td>433          </td> <td>LAX        </td> <td>10   </td>\n",
       "        </tr>\n",
       "        <tr>\n",
       "            <td>118 </td> <td>6/1/15</td> <td>1602         </td> <td>ATL        </td> <td>6    </td>\n",
       "        </tr>\n",
       "        <tr>\n",
       "            <td>218 </td> <td>6/2/15</td> <td>1076         </td> <td>IAD        </td> <td>43   </td>\n",
       "        </tr>\n",
       "        <tr>\n",
       "            <td>318 </td> <td>6/3/15</td> <td>477          </td> <td>ORD        </td> <td>-4   </td>\n",
       "        </tr>\n",
       "        <tr>\n",
       "            <td>418 </td> <td>6/3/15</td> <td>1634         </td> <td>BOS        </td> <td>10   </td>\n",
       "        </tr>\n",
       "        <tr>\n",
       "            <td>518 </td> <td>6/4/15</td> <td>1120         </td> <td>IAH        </td> <td>12   </td>\n",
       "        </tr>\n",
       "        <tr>\n",
       "            <td>618 </td> <td>6/5/15</td> <td>349          </td> <td>EWR        </td> <td>-3   </td>\n",
       "        </tr>\n",
       "        <tr>\n",
       "            <td>718 </td> <td>6/5/15</td> <td>1608         </td> <td>EWR        </td> <td>-6   </td>\n",
       "        </tr>\n",
       "        <tr>\n",
       "            <td>818 </td> <td>6/6/15</td> <td>1089         </td> <td>BOS        </td> <td>20   </td>\n",
       "        </tr>\n",
       "        <tr>\n",
       "            <td>918 </td> <td>6/7/15</td> <td>455          </td> <td>BOS        </td> <td>-2   </td>\n",
       "        </tr>\n",
       "    </tbody>\n",
       "</table>\n",
       "<p>... (129 rows omitted)</p>"
      ],
      "text/plain": [
       "Row  | Date   | Flight Number | Destination | Delay\n",
       "18   | 6/1/15 | 433           | LAX         | 10\n",
       "118  | 6/1/15 | 1602          | ATL         | 6\n",
       "218  | 6/2/15 | 1076          | IAD         | 43\n",
       "318  | 6/3/15 | 477           | ORD         | -4\n",
       "418  | 6/3/15 | 1634          | BOS         | 10\n",
       "518  | 6/4/15 | 1120          | IAH         | 12\n",
       "618  | 6/5/15 | 349           | EWR         | -3\n",
       "718  | 6/5/15 | 1608          | EWR         | -6\n",
       "818  | 6/6/15 | 1089          | BOS         | 20\n",
       "918  | 6/7/15 | 455           | BOS         | -2\n",
       "... (129 rows omitted)"
      ]
     },
     "execution_count": 6,
     "metadata": {},
     "output_type": "execute_result"
    }
   ],
   "source": [
    "# A random sample: unpack what this code does!\n",
    "start = np.random.choice(np.arange(100))\n",
    "systematic_sample = united.take(np.arange(start, united.num_rows, 100))\n",
    "systematic_sample"
   ]
  },
  {
   "cell_type": "markdown",
   "id": "c9869658-212c-4846-afeb-7f00ccd1d0c0",
   "metadata": {},
   "source": [
    "## Part 2: Your work ##\n",
    "\n",
    "* What is the longest flight delay in the table?\n",
    "* What is the average flight delay?\n",
    "* If you choose 100 random flights using united.sample(100), what is the average delay for those flights?\n",
    "* Which city has the highest average delay? The lowest?\n",
    "* Make a histogram of the delays."
   ]
  },
  {
   "cell_type": "code",
   "execution_count": 11,
   "id": "6e1848ec-edaa-446e-b3db-319a147f15c4",
   "metadata": {},
   "outputs": [
    {
     "data": {
      "text/html": [
       "<table border=\"1\" class=\"dataframe\">\n",
       "    <thead>\n",
       "        <tr>\n",
       "            <th>Destination</th> <th>Row average</th> <th>Date average</th> <th>Flight Number average</th> <th>Delay average</th>\n",
       "        </tr>\n",
       "    </thead>\n",
       "    <tbody>\n",
       "        <tr>\n",
       "            <td>MSY        </td> <td>225.667    </td> <td>            </td> <td>1138                 </td> <td>37           </td>\n",
       "        </tr>\n",
       "        <tr>\n",
       "            <td>HNL        </td> <td>6720.99    </td> <td>            </td> <td>776.796              </td> <td>25.6839      </td>\n",
       "        </tr>\n",
       "        <tr>\n",
       "            <td>DCA        </td> <td>6950.57    </td> <td>            </td> <td>1560.15              </td> <td>24.3804      </td>\n",
       "        </tr>\n",
       "        <tr>\n",
       "            <td>STL        </td> <td>6677.14    </td> <td>            </td> <td>394.722              </td> <td>23.75        </td>\n",
       "        </tr>\n",
       "        <tr>\n",
       "            <td>FLL        </td> <td>5853.95    </td> <td>            </td> <td>1959.14              </td> <td>22.8182      </td>\n",
       "        </tr>\n",
       "        <tr>\n",
       "            <td>CLE        </td> <td>6563.48    </td> <td>            </td> <td>1414.55              </td> <td>21.2515      </td>\n",
       "        </tr>\n",
       "        <tr>\n",
       "            <td>DFW        </td> <td>6568.22    </td> <td>            </td> <td>737.696              </td> <td>19.6211      </td>\n",
       "        </tr>\n",
       "        <tr>\n",
       "            <td>MSP        </td> <td>7225.92    </td> <td>            </td> <td>719.099              </td> <td>18.955       </td>\n",
       "        </tr>\n",
       "        <tr>\n",
       "            <td>EWR        </td> <td>6908.19    </td> <td>            </td> <td>1332.76              </td> <td>18.5522      </td>\n",
       "        </tr>\n",
       "        <tr>\n",
       "            <td>IND        </td> <td>6797.17    </td> <td>            </td> <td>1241.33              </td> <td>18.5444      </td>\n",
       "        </tr>\n",
       "        <tr>\n",
       "            <td>ORD        </td> <td>6967.3     </td> <td>            </td> <td>1177.08              </td> <td>18.5227      </td>\n",
       "        </tr>\n",
       "        <tr>\n",
       "            <td>MCO        </td> <td>6629.82    </td> <td>            </td> <td>1453.37              </td> <td>18.4771      </td>\n",
       "        </tr>\n",
       "        <tr>\n",
       "            <td>JFK        </td> <td>6883.95    </td> <td>            </td> <td>727.731              </td> <td>18.4527      </td>\n",
       "        </tr>\n",
       "        <tr>\n",
       "            <td>BWI        </td> <td>6961.03    </td> <td>            </td> <td>1663.73              </td> <td>18.0978      </td>\n",
       "        </tr>\n",
       "        <tr>\n",
       "            <td>LAX        </td> <td>6980.77    </td> <td>            </td> <td>1123.47              </td> <td>17.4123      </td>\n",
       "        </tr>\n",
       "        <tr>\n",
       "            <td>OGG        </td> <td>6641.97    </td> <td>            </td> <td>1281.77              </td> <td>17.2389      </td>\n",
       "        </tr>\n",
       "        <tr>\n",
       "            <td>SEA        </td> <td>6731.11    </td> <td>            </td> <td>1172.73              </td> <td>16.9001      </td>\n",
       "        </tr>\n",
       "        <tr>\n",
       "            <td>PHL        </td> <td>6952.07    </td> <td>            </td> <td>1398.1               </td> <td>16.8251      </td>\n",
       "        </tr>\n",
       "        <tr>\n",
       "            <td>BOS        </td> <td>6831.99    </td> <td>            </td> <td>1129.56              </td> <td>16.8092      </td>\n",
       "        </tr>\n",
       "        <tr>\n",
       "            <td>PHX        </td> <td>6051.82    </td> <td>            </td> <td>1274.48              </td> <td>16.761       </td>\n",
       "        </tr>\n",
       "        <tr>\n",
       "            <td>RNO        </td> <td>9320.29    </td> <td>            </td> <td>823.292              </td> <td>16.5417      </td>\n",
       "        </tr>\n",
       "        <tr>\n",
       "            <td>PDX        </td> <td>7093.87    </td> <td>            </td> <td>845.395              </td> <td>16.0717      </td>\n",
       "        </tr>\n",
       "        <tr>\n",
       "            <td>IAD        </td> <td>6928.96    </td> <td>            </td> <td>1236.22              </td> <td>15.6619      </td>\n",
       "        </tr>\n",
       "        <tr>\n",
       "            <td>ATL        </td> <td>6949.31    </td> <td>            </td> <td>1604.79              </td> <td>15.4118      </td>\n",
       "        </tr>\n",
       "        <tr>\n",
       "            <td>ANC        </td> <td>6928.51    </td> <td>            </td> <td>1257                 </td> <td>15.337       </td>\n",
       "        </tr>\n",
       "        <tr>\n",
       "            <td>AUS        </td> <td>6953.65    </td> <td>            </td> <td>741.796              </td> <td>15.2254      </td>\n",
       "        </tr>\n",
       "        <tr>\n",
       "            <td>RDU        </td> <td>6857.03    </td> <td>            </td> <td>1235.86              </td> <td>14.4011      </td>\n",
       "        </tr>\n",
       "        <tr>\n",
       "            <td>IAH        </td> <td>6768.53    </td> <td>            </td> <td>1216.58              </td> <td>14.2659      </td>\n",
       "        </tr>\n",
       "        <tr>\n",
       "            <td>KOA        </td> <td>6894.14    </td> <td>            </td> <td>1693                 </td> <td>13.9655      </td>\n",
       "        </tr>\n",
       "        <tr>\n",
       "            <td>SAN        </td> <td>6969.26    </td> <td>            </td> <td>1223.06              </td> <td>13.7801      </td>\n",
       "        </tr>\n",
       "        <tr>\n",
       "            <td>DEN        </td> <td>6980.6     </td> <td>            </td> <td>954.182              </td> <td>13.7183      </td>\n",
       "        </tr>\n",
       "        <tr>\n",
       "            <td>LIH        </td> <td>7025.75    </td> <td>            </td> <td>1089.15              </td> <td>13.4033      </td>\n",
       "        </tr>\n",
       "        <tr>\n",
       "            <td>MSN        </td> <td>13622      </td> <td>            </td> <td>1282                 </td> <td>13           </td>\n",
       "        </tr>\n",
       "        <tr>\n",
       "            <td>LAS        </td> <td>7119.04    </td> <td>            </td> <td>1110.99              </td> <td>12.0361      </td>\n",
       "        </tr>\n",
       "        <tr>\n",
       "            <td>SLC        </td> <td>8936.93    </td> <td>            </td> <td>502.768              </td> <td>10.1429      </td>\n",
       "        </tr>\n",
       "        <tr>\n",
       "            <td>SNA        </td> <td>6808.7     </td> <td>            </td> <td>683.544              </td> <td>10.034       </td>\n",
       "        </tr>\n",
       "        <tr>\n",
       "            <td>PIT        </td> <td>6903.45    </td> <td>            </td> <td>911.913              </td> <td>9.80435      </td>\n",
       "        </tr>\n",
       "        <tr>\n",
       "            <td>SAT        </td> <td>11817.5    </td> <td>            </td> <td>948.812              </td> <td>-3.625       </td>\n",
       "        </tr>\n",
       "    </tbody>\n",
       "</table>"
      ],
      "text/plain": [
       "<IPython.core.display.HTML object>"
      ]
     },
     "metadata": {},
     "output_type": "display_data"
    }
   ],
   "source": [
    "# Happy coding!\n",
    "\n",
    "united.group('Destination', np.average).sort('Delay average', descending=True).show()"
   ]
  },
  {
   "cell_type": "code",
   "execution_count": 13,
   "id": "17b439c3-17e1-40e0-bcd9-e70a1ae6e8f5",
   "metadata": {},
   "outputs": [
    {
     "data": {
      "text/plain": [
       "15.929999999999998"
      ]
     },
     "execution_count": 13,
     "metadata": {},
     "output_type": "execute_result"
    }
   ],
   "source": [
    "sum([17.7, 14.9, 21.9, 18.6, 13, 14.6, 9.5, 19.2, 14.5, 15.4]) / 10"
   ]
  }
 ],
 "metadata": {
  "kernelspec": {
   "display_name": "Python 3 (ipykernel)",
   "language": "python",
   "name": "python3"
  },
  "language_info": {
   "codemirror_mode": {
    "name": "ipython",
    "version": 3
   },
   "file_extension": ".py",
   "mimetype": "text/x-python",
   "name": "python",
   "nbconvert_exporter": "python",
   "pygments_lexer": "ipython3",
   "version": "3.11.9"
  }
 },
 "nbformat": 4,
 "nbformat_minor": 5
}
