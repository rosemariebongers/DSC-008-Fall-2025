{
 "cells": [
  {
   "cell_type": "code",
   "execution_count": 1,
   "id": "199e76d5-38c5-48f6-a2e2-b38c0cf3062e",
   "metadata": {},
   "outputs": [],
   "source": [
    "from datascience import *\n",
    "import numpy as np\n",
    "\n",
    "%matplotlib inline\n",
    "import matplotlib.pyplot as plots\n",
    "plots.style.use('fivethirtyeight')"
   ]
  },
  {
   "cell_type": "markdown",
   "id": "32c3a5a1-1f42-4b58-aa16-77ef650422af",
   "metadata": {},
   "source": [
    "## Part 1: Setting up the data ##"
   ]
  },
  {
   "cell_type": "code",
   "execution_count": 2,
   "id": "0d89b646-dbba-4343-9582-7a863ec317e8",
   "metadata": {},
   "outputs": [
    {
     "data": {
      "text/html": [
       "<table border=\"1\" class=\"dataframe\">\n",
       "    <thead>\n",
       "        <tr>\n",
       "            <th>Date</th> <th>Maximum Temperature</th> <th>Minimum Temperature</th>\n",
       "        </tr>\n",
       "    </thead>\n",
       "    <tbody>\n",
       "        <tr>\n",
       "            <td>2024-09-01</td> <td>97                 </td> <td>64                 </td>\n",
       "        </tr>\n",
       "        <tr>\n",
       "            <td>2024-09-02</td> <td>94                 </td> <td>62                 </td>\n",
       "        </tr>\n",
       "        <tr>\n",
       "            <td>2024-09-03</td> <td>98                 </td> <td>57                 </td>\n",
       "        </tr>\n",
       "        <tr>\n",
       "            <td>2024-09-04</td> <td>103                </td> <td>62                 </td>\n",
       "        </tr>\n",
       "        <tr>\n",
       "            <td>2024-09-05</td> <td>104                </td> <td>69                 </td>\n",
       "        </tr>\n",
       "        <tr>\n",
       "            <td>2024-09-06</td> <td>105                </td> <td>67                 </td>\n",
       "        </tr>\n",
       "        <tr>\n",
       "            <td>2024-09-07</td> <td>105                </td> <td>66                 </td>\n",
       "        </tr>\n",
       "        <tr>\n",
       "            <td>2024-09-08</td> <td>105                </td> <td>68                 </td>\n",
       "        </tr>\n",
       "        <tr>\n",
       "            <td>2024-09-09</td> <td>106                </td> <td>63                 </td>\n",
       "        </tr>\n",
       "        <tr>\n",
       "            <td>2024-09-10</td> <td>91                 </td> <td>61                 </td>\n",
       "        </tr>\n",
       "    </tbody>\n",
       "</table>\n",
       "<p>... (20 rows omitted)</p>"
      ],
      "text/plain": [
       "Date       | Maximum Temperature | Minimum Temperature\n",
       "2024-09-01 | 97                  | 64\n",
       "2024-09-02 | 94                  | 62\n",
       "2024-09-03 | 98                  | 57\n",
       "2024-09-04 | 103                 | 62\n",
       "2024-09-05 | 104                 | 69\n",
       "2024-09-06 | 105                 | 67\n",
       "2024-09-07 | 105                 | 66\n",
       "2024-09-08 | 105                 | 68\n",
       "2024-09-09 | 106                 | 63\n",
       "2024-09-10 | 91                  | 61\n",
       "... (20 rows omitted)"
      ]
     },
     "execution_count": 2,
     "metadata": {},
     "output_type": "execute_result"
    }
   ],
   "source": [
    "# Load the 2024 weather data\n",
    "weather_2024 = Table().read_table('merced_weather_2024_september.csv')\n",
    "weather_2024 = weather_2024.select(['Date', 'Maximum Temperature', 'Minimum Temperature'])\n",
    "weather_2024\n",
    "\n",
    "#weather_2024.hist('Maximum Temperature')"
   ]
  },
  {
   "cell_type": "code",
   "execution_count": 3,
   "id": "cce55533-c7fb-4b75-8d32-396b39f4426a",
   "metadata": {},
   "outputs": [
    {
     "data": {
      "text/html": [
       "<table border=\"1\" class=\"dataframe\">\n",
       "    <thead>\n",
       "        <tr>\n",
       "            <th>Date</th> <th>Maximum Temperature</th> <th>Minimum Temperature</th>\n",
       "        </tr>\n",
       "    </thead>\n",
       "    <tbody>\n",
       "        <tr>\n",
       "            <td>2004-09-01</td> <td>98                 </td> <td>63                 </td>\n",
       "        </tr>\n",
       "        <tr>\n",
       "            <td>2004-09-02</td> <td>91                 </td> <td>58                 </td>\n",
       "        </tr>\n",
       "        <tr>\n",
       "            <td>2004-09-03</td> <td>88                 </td> <td>59                 </td>\n",
       "        </tr>\n",
       "        <tr>\n",
       "            <td>2004-09-04</td> <td>90                 </td> <td>53                 </td>\n",
       "        </tr>\n",
       "        <tr>\n",
       "            <td>2004-09-05</td> <td>97                 </td> <td>58                 </td>\n",
       "        </tr>\n",
       "        <tr>\n",
       "            <td>2004-09-06</td> <td>101                </td> <td>58                 </td>\n",
       "        </tr>\n",
       "        <tr>\n",
       "            <td>2004-09-07</td> <td>100                </td> <td>58                 </td>\n",
       "        </tr>\n",
       "        <tr>\n",
       "            <td>2004-09-08</td> <td>104                </td> <td>60                 </td>\n",
       "        </tr>\n",
       "        <tr>\n",
       "            <td>2004-09-09</td> <td>102                </td> <td>59                 </td>\n",
       "        </tr>\n",
       "        <tr>\n",
       "            <td>2004-09-10</td> <td>99                 </td> <td>56                 </td>\n",
       "        </tr>\n",
       "    </tbody>\n",
       "</table>\n",
       "<p>... (20 rows omitted)</p>"
      ],
      "text/plain": [
       "Date       | Maximum Temperature | Minimum Temperature\n",
       "2004-09-01 | 98                  | 63\n",
       "2004-09-02 | 91                  | 58\n",
       "2004-09-03 | 88                  | 59\n",
       "2004-09-04 | 90                  | 53\n",
       "2004-09-05 | 97                  | 58\n",
       "2004-09-06 | 101                 | 58\n",
       "2004-09-07 | 100                 | 58\n",
       "2004-09-08 | 104                 | 60\n",
       "2004-09-09 | 102                 | 59\n",
       "2004-09-10 | 99                  | 56\n",
       "... (20 rows omitted)"
      ]
     },
     "execution_count": 3,
     "metadata": {},
     "output_type": "execute_result"
    }
   ],
   "source": [
    "# Load the 2004 weather data\n",
    "weather_2004 = Table().read_table('merced_weather_2004_september.csv')\n",
    "weather_2004 = weather_2004.select(['Date', 'Maximum Temperature', 'Minimum Temperature'])\n",
    "weather_2004\n"
   ]
  },
  {
   "cell_type": "code",
   "execution_count": 4,
   "id": "9712d5dd-08b1-4e2b-8de7-f3604bcba2e3",
   "metadata": {},
   "outputs": [
    {
     "data": {
      "image/png": "[encoded data removed]",
      "text/plain": [
       "<Figure size 600x400 with 1 Axes>"
      ]
     },
     "metadata": {},
     "output_type": "display_data"
    }
   ],
   "source": [
    "# Combine the sets of weather data into a new table with labels\n",
    "\n",
    "weather_columns = np.append(weather_2024.column('Maximum Temperature'), weather_2004.column('Maximum Temperature'))\n",
    "labels = np.append(30*['new'], 30*['old'])\n",
    "\n",
    "weather_data = Table().with_columns(\n",
    "    'Temperature', weather_columns,\n",
    "    'Label', labels\n",
    ")\n",
    "\n",
    "#weather_data.show()\n",
    "\n",
    "weather_data.hist('Temperature', group = 'Label')"
   ]
  },
  {
   "cell_type": "code",
   "execution_count": 5,
   "id": "2028bf32-59a7-44b5-84d5-252615a9e00c",
   "metadata": {},
   "outputs": [
    {
     "data": {
      "text/html": [
       "<table border=\"1\" class=\"dataframe\">\n",
       "    <thead>\n",
       "        <tr>\n",
       "            <th>Label</th> <th>Temperature average</th>\n",
       "        </tr>\n",
       "    </thead>\n",
       "    <tbody>\n",
       "        <tr>\n",
       "            <td>new  </td> <td>93.3667            </td>\n",
       "        </tr>\n",
       "        <tr>\n",
       "            <td>old  </td> <td>89.3               </td>\n",
       "        </tr>\n",
       "    </tbody>\n",
       "</table>"
      ],
      "text/plain": [
       "Label | Temperature average\n",
       "new   | 93.3667\n",
       "old   | 89.3"
      ]
     },
     "execution_count": 5,
     "metadata": {},
     "output_type": "execute_result"
    }
   ],
   "source": [
    "# Compare the averages\n",
    "weather_data.group('Label', np.average)"
   ]
  },
  {
   "cell_type": "code",
   "execution_count": 6,
   "id": "ad350cf3-7a98-4a9f-9caf-9b9f42188d69",
   "metadata": {},
   "outputs": [
    {
     "data": {
      "text/html": [
       "<table border=\"1\" class=\"dataframe\">\n",
       "    <thead>\n",
       "        <tr>\n",
       "            <th>Date</th> <th>Maximum Temperature</th> <th>Minimum Temperature</th>\n",
       "        </tr>\n",
       "    </thead>\n",
       "    <tbody>\n",
       "        <tr>\n",
       "            <td>2004-09-19</td> <td>66                 </td> <td>48                 </td>\n",
       "        </tr>\n",
       "        <tr>\n",
       "            <td>2004-09-18</td> <td>71                 </td> <td>55                 </td>\n",
       "        </tr>\n",
       "        <tr>\n",
       "            <td>2004-09-20</td> <td>73                 </td> <td>46                 </td>\n",
       "        </tr>\n",
       "        <tr>\n",
       "            <td>2004-09-30</td> <td>75                 </td> <td>52                 </td>\n",
       "        </tr>\n",
       "        <tr>\n",
       "            <td>2004-09-28</td> <td>78                 </td> <td>53                 </td>\n",
       "        </tr>\n",
       "        <tr>\n",
       "            <td>2004-09-21</td> <td>79                 </td> <td>46                 </td>\n",
       "        </tr>\n",
       "        <tr>\n",
       "            <td>2004-09-29</td> <td>79                 </td> <td>52                 </td>\n",
       "        </tr>\n",
       "        <tr>\n",
       "            <td>2004-09-13</td> <td>86                 </td> <td>54                 </td>\n",
       "        </tr>\n",
       "        <tr>\n",
       "            <td>2004-09-14</td> <td>86                 </td> <td>54                 </td>\n",
       "        </tr>\n",
       "        <tr>\n",
       "            <td>2004-09-22</td> <td>86                 </td> <td>47                 </td>\n",
       "        </tr>\n",
       "        <tr>\n",
       "            <td>2004-09-03</td> <td>88                 </td> <td>59                 </td>\n",
       "        </tr>\n",
       "        <tr>\n",
       "            <td>2004-09-27</td> <td>89                 </td> <td>51                 </td>\n",
       "        </tr>\n",
       "        <tr>\n",
       "            <td>2004-09-04</td> <td>90                 </td> <td>53                 </td>\n",
       "        </tr>\n",
       "        <tr>\n",
       "            <td>2004-09-02</td> <td>91                 </td> <td>58                 </td>\n",
       "        </tr>\n",
       "        <tr>\n",
       "            <td>2004-09-15</td> <td>92                 </td> <td>53                 </td>\n",
       "        </tr>\n",
       "        <tr>\n",
       "            <td>2004-09-23</td> <td>92                 </td> <td>50                 </td>\n",
       "        </tr>\n",
       "        <tr>\n",
       "            <td>2004-09-12</td> <td>93                 </td> <td>59                 </td>\n",
       "        </tr>\n",
       "        <tr>\n",
       "            <td>2004-09-16</td> <td>93                 </td> <td>59                 </td>\n",
       "        </tr>\n",
       "        <tr>\n",
       "            <td>2004-09-24</td> <td>93                 </td> <td>51                 </td>\n",
       "        </tr>\n",
       "        <tr>\n",
       "            <td>2004-09-25</td> <td>93                 </td> <td>53                 </td>\n",
       "        </tr>\n",
       "        <tr>\n",
       "            <td>2004-09-26</td> <td>93                 </td> <td>51                 </td>\n",
       "        </tr>\n",
       "        <tr>\n",
       "            <td>2004-09-17</td> <td>94                 </td> <td>59                 </td>\n",
       "        </tr>\n",
       "        <tr>\n",
       "            <td>2004-09-05</td> <td>97                 </td> <td>58                 </td>\n",
       "        </tr>\n",
       "        <tr>\n",
       "            <td>2004-09-01</td> <td>98                 </td> <td>63                 </td>\n",
       "        </tr>\n",
       "        <tr>\n",
       "            <td>2004-09-11</td> <td>98                 </td> <td>58                 </td>\n",
       "        </tr>\n",
       "        <tr>\n",
       "            <td>2004-09-10</td> <td>99                 </td> <td>56                 </td>\n",
       "        </tr>\n",
       "        <tr>\n",
       "            <td>2004-09-07</td> <td>100                </td> <td>58                 </td>\n",
       "        </tr>\n",
       "        <tr>\n",
       "            <td>2004-09-06</td> <td>101                </td> <td>58                 </td>\n",
       "        </tr>\n",
       "        <tr>\n",
       "            <td>2004-09-09</td> <td>102                </td> <td>59                 </td>\n",
       "        </tr>\n",
       "        <tr>\n",
       "            <td>2004-09-08</td> <td>104                </td> <td>60                 </td>\n",
       "        </tr>\n",
       "    </tbody>\n",
       "</table>"
      ],
      "text/plain": [
       "<IPython.core.display.HTML object>"
      ]
     },
     "metadata": {},
     "output_type": "display_data"
    }
   ],
   "source": [
    "weather_2004.sort('Maximum Temperature').show()"
   ]
  },
  {
   "cell_type": "markdown",
   "id": "13188f8d-f6de-4231-a141-fc54eef5d7d7",
   "metadata": {},
   "source": [
    "## Part 2: The permutation test ##"
   ]
  },
  {
   "cell_type": "code",
   "execution_count": 7,
   "id": "f870a1c2-6b3b-4f87-84f0-926af41d9f57",
   "metadata": {},
   "outputs": [],
   "source": [
    "def difference_of_means(data_table, column):\n",
    "    \"\"\"Takes: name of table and column to group by\n",
    "    Returns: The difference of means between the groups.\"\"\"\n",
    "\n",
    "    means = data_table.group(column, np.average).column(1)\n",
    "    return means.item(0) - means.item(1)"
   ]
  },
  {
   "cell_type": "code",
   "execution_count": 8,
   "id": "52ce8190-1ce9-445e-8465-29f23fd55478",
   "metadata": {},
   "outputs": [
    {
     "data": {
      "text/plain": [
       "4.066666666666663"
      ]
     },
     "execution_count": 8,
     "metadata": {},
     "output_type": "execute_result"
    }
   ],
   "source": [
    "difference_of_means(weather_data, 'Label')"
   ]
  },
  {
   "cell_type": "code",
   "execution_count": 9,
   "id": "1edbaeb2-bc86-4fa7-898f-feddd28dc57f",
   "metadata": {},
   "outputs": [
    {
     "data": {
      "text/html": [
       "<table border=\"1\" class=\"dataframe\">\n",
       "    <thead>\n",
       "        <tr>\n",
       "            <th>Temperature</th> <th>Label</th> <th>Shuffled Label</th>\n",
       "        </tr>\n",
       "    </thead>\n",
       "    <tbody>\n",
       "        <tr>\n",
       "            <td>97         </td> <td>new  </td> <td>new           </td>\n",
       "        </tr>\n",
       "        <tr>\n",
       "            <td>94         </td> <td>new  </td> <td>old           </td>\n",
       "        </tr>\n",
       "        <tr>\n",
       "            <td>98         </td> <td>new  </td> <td>old           </td>\n",
       "        </tr>\n",
       "        <tr>\n",
       "            <td>103        </td> <td>new  </td> <td>new           </td>\n",
       "        </tr>\n",
       "        <tr>\n",
       "            <td>104        </td> <td>new  </td> <td>old           </td>\n",
       "        </tr>\n",
       "        <tr>\n",
       "            <td>105        </td> <td>new  </td> <td>new           </td>\n",
       "        </tr>\n",
       "        <tr>\n",
       "            <td>105        </td> <td>new  </td> <td>new           </td>\n",
       "        </tr>\n",
       "        <tr>\n",
       "            <td>105        </td> <td>new  </td> <td>old           </td>\n",
       "        </tr>\n",
       "        <tr>\n",
       "            <td>106        </td> <td>new  </td> <td>old           </td>\n",
       "        </tr>\n",
       "        <tr>\n",
       "            <td>91         </td> <td>new  </td> <td>old           </td>\n",
       "        </tr>\n",
       "    </tbody>\n",
       "</table>\n",
       "<p>... (50 rows omitted)</p>"
      ],
      "text/plain": [
       "Temperature | Label | Shuffled Label\n",
       "97          | new   | new\n",
       "94          | new   | old\n",
       "98          | new   | old\n",
       "103         | new   | new\n",
       "104         | new   | old\n",
       "105         | new   | new\n",
       "105         | new   | new\n",
       "105         | new   | old\n",
       "106         | new   | old\n",
       "91          | new   | old\n",
       "... (50 rows omitted)"
      ]
     },
     "execution_count": 9,
     "metadata": {},
     "output_type": "execute_result"
    }
   ],
   "source": [
    "# Now let's make a way to shuffle the labels. We do this by drawing\n",
    "# without replacement from the column of all labels:\n",
    "\n",
    "shuffled_labels = weather_data.sample(with_replacement = False).column(1)\n",
    "original_and_shuffled = weather_data.with_column(\n",
    "    'Shuffled Label', shuffled_labels)\n",
    "\n",
    "original_and_shuffled"
   ]
  },
  {
   "cell_type": "code",
   "execution_count": 10,
   "id": "efd5c82c-41e8-465b-9561-aa25375c5663",
   "metadata": {},
   "outputs": [
    {
     "data": {
      "text/html": [
       "<table border=\"1\" class=\"dataframe\">\n",
       "    <thead>\n",
       "        <tr>\n",
       "            <th>Shuffled Label</th> <th>Temperature average</th>\n",
       "        </tr>\n",
       "    </thead>\n",
       "    <tbody>\n",
       "        <tr>\n",
       "            <td>new           </td> <td>91.8667            </td>\n",
       "        </tr>\n",
       "        <tr>\n",
       "            <td>old           </td> <td>90.8               </td>\n",
       "        </tr>\n",
       "    </tbody>\n",
       "</table>"
      ],
      "text/plain": [
       "<IPython.core.display.HTML object>"
      ]
     },
     "metadata": {},
     "output_type": "display_data"
    },
    {
     "data": {
      "text/plain": [
       "1.0666666666666629"
      ]
     },
     "execution_count": 10,
     "metadata": {},
     "output_type": "execute_result"
    }
   ],
   "source": [
    "# Now let's just look at the data with shuffled labels only and\n",
    "# compute the temperature deviation:\n",
    "\n",
    "shuffled_only = original_and_shuffled.select('Temperature', 'Shuffled Label')\n",
    "shuffled_only.group('Shuffled Label', np.average).show()\n",
    "\n",
    "difference_of_means(shuffled_only, 'Shuffled Label')"
   ]
  },
  {
   "cell_type": "code",
   "execution_count": 11,
   "id": "6a0fb890-d9fd-4cb1-9bb2-c109e9a1d0cb",
   "metadata": {},
   "outputs": [],
   "source": [
    "# Now we're ready to implement the permutation test!\n",
    "\n",
    "differences = make_array()\n",
    "repetitions = 20000\n",
    "\n",
    "for i in np.arange(repetitions):\n",
    "    shuffled_labels = weather_data.sample(with_replacement = False).column(1)\n",
    "    shuffled_data = weather_data.with_column(\n",
    "        'Shuffled Label', shuffled_labels).drop('Label')\n",
    "\n",
    "    new_difference = difference_of_means(shuffled_data, 'Shuffled Label')\n",
    "    differences = np.append(differences, new_difference)"
   ]
  },
  {
   "cell_type": "code",
   "execution_count": 12,
   "id": "bbf9136c-383f-4ed2-a11a-765216668955",
   "metadata": {},
   "outputs": [
    {
     "data": {
      "text/plain": [
       "<matplotlib.collections.PathCollection at 0x13d9a1b90>"
      ]
     },
     "execution_count": 12,
     "metadata": {},
     "output_type": "execute_result"
    },
    {
     "data": {
      "image/png": "[encoded data removed]",
      "text/plain": [
       "<Figure size 600x400 with 1 Axes>"
      ]
     },
     "metadata": {},
     "output_type": "display_data"
    }
   ],
   "source": [
    "# Now let's make a histogram. This represents the distribution \n",
    "# UNDER THE NULL HYPOTHESIS that the samples come from the \n",
    "# same underlying distribution.\n",
    "\n",
    "Table().with_column('Difference between group averages', differences).hist(bins=20)\n",
    "observed_difference = difference_of_means(weather_data, 'Label')\n",
    "plots.scatter(observed_difference, .025, c='r', s=100)"
   ]
  },
  {
   "cell_type": "markdown",
   "id": "8cb96f85-afcb-4a6f-a346-2896acd59c7b",
   "metadata": {},
   "source": [
    "## Part 3: Computing the p-Value and computing percentiles ##"
   ]
  },
  {
   "cell_type": "code",
   "execution_count": 13,
   "id": "ae6af30a-ab36-46b0-89fa-c1e9dbb3b773",
   "metadata": {},
   "outputs": [
    {
     "name": "stdout",
     "output_type": "stream",
     "text": [
      "Reported p-value for the difference: 0.0432\n"
     ]
    }
   ],
   "source": [
    "# We need to count how many outcomes were more extreme\n",
    "\n",
    "p_value = sum(differences > observed_difference) / repetitions\n",
    "print('Reported p-value for the difference: ' + str(p_value))"
   ]
  },
  {
   "cell_type": "code",
   "execution_count": 15,
   "id": "ff73753d-9338-47b3-8ec0-319505ba8470",
   "metadata": {},
   "outputs": [
    {
     "name": "stdout",
     "output_type": "stream",
     "text": [
      "25th percentile: -1.6\n",
      "50th percentile: 0.0\n",
      "75th percentile: 1.6\n",
      "95th percentile: 3.93333333333\n",
      "99th percentile: 5.4\n"
     ]
    }
   ],
   "source": [
    "# Find the 25th percentile of the distribution:\n",
    "print('25th percentile: ' + str(percentile(25, differences)))\n",
    "\n",
    "# Find the 50th percentile of the distribution:\n",
    "print('50th percentile: ' + str(percentile(50, differences)))\n",
    "\n",
    "# Find the 75th percentile\n",
    "print('75th percentile: ' + str(percentile(75, differences)))\n",
    "\n",
    "# Find the 95th percentile\n",
    "print('95th percentile: ' + str(percentile(95, differences)))\n",
    "\n",
    "# Find the 99th percentile\n",
    "print('99th percentile: ' + str(percentile(99, differences)))"
   ]
  },
  {
   "cell_type": "code",
   "execution_count": null,
   "id": "2f1c0f85-3ae9-4d77-a8bc-28d4b0aa7c29",
   "metadata": {},
   "outputs": [],
   "source": []
  }
 ],
 "metadata": {
  "kernelspec": {
   "display_name": "Python 3 (ipykernel)",
   "language": "python",
   "name": "python3"
  },
  "language_info": {
   "codemirror_mode": {
    "name": "ipython",
    "version": 3
   },
   "file_extension": ".py",
   "mimetype": "text/x-python",
   "name": "python",
   "nbconvert_exporter": "python",
   "pygments_lexer": "ipython3",
   "version": "3.11.9"
  }
 },
 "nbformat": 4,
 "nbformat_minor": 5
}
