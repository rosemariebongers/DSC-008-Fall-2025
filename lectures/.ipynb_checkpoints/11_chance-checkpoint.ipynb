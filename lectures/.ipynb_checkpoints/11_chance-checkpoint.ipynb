{
 "cells": [
  {
   "cell_type": "code",
   "execution_count": null,
   "id": "cell-lec14-0",
   "metadata": {},
   "outputs": [],
   "source": [
    "from datascience import *\n",
    "%matplotlib inline\n",
    "path_data = '../../../assets/data/'\n",
    "import matplotlib.pyplot as plt\n",
    "plt.style.use('fivethirtyeight')\n",
    "import numpy as np\n",
    "import warnings\n",
    "warnings.simplefilter(action='ignore', category=np.VisibleDeprecationWarning)"
   ]
  },
  {
   "cell_type": "code",
   "execution_count": null,
   "id": "40ac50d5-c0e7-4369-8def-13762329dee5",
   "metadata": {},
   "outputs": [],
   "source": [
    "# Reminder: we can sample using np.random.choice.\n",
    "# Experiment with this cell, and make sure you can explain why it works like this!!\n",
    "# Then move on to the probability questions.\n",
    "\n",
    "# Drawing with replacement:\n",
    "#print('Replacement: ', np.random.choice(np.arange(1, 7), 6))\n",
    "#print('Replacement: ', np.random.choice(np.arange(1, 7), 10, replace=True))\n",
    "\n",
    "# Drawing without replacement:\n",
    "#print('Without:     ', np.random.choice(np.arange(1, 7), 6, replace=False))\n",
    "#print('Without:     ', np.random.choice(np.arange(1, 7), 10, replace=False))"
   ]
  },
  {
   "cell_type": "markdown",
   "id": "6594bed0-e135-47bf-8c53-3d2ba994c0a2",
   "metadata": {},
   "source": [
    "### Question 1 ###\n",
    "\n",
    "Roll a six-sided die four times. Use simulation to estimate the probabilities of the following:\n",
    "\n",
    "* getting all sixes\n",
    "* getting exactly one six\n",
    "* getting no sixes"
   ]
  },
  {
   "cell_type": "code",
   "execution_count": null,
   "id": "c9908407-3a3d-4b7c-bdb8-9c84c21eed61",
   "metadata": {},
   "outputs": [],
   "source": [
    "# Code goes here!"
   ]
  },
  {
   "cell_type": "markdown",
   "id": "7ed38c80-38f8-4c80-9676-d1f57f29269e",
   "metadata": {},
   "source": [
    "### Question 2 ###\n",
    "\n",
    "Make a function that finds the (simulated) probability of getting exactly $k$ sixes in your four rolls. If $k$ is not in $\\{0, 1, 2, 3, 4\\}$, your function should return 0. Then make a histogram of the distribution."
   ]
  },
  {
   "cell_type": "code",
   "execution_count": null,
   "id": "6e5eac96-1af4-4879-9b1b-649119d72cf9",
   "metadata": {},
   "outputs": [],
   "source": [
    "def probability_sixes(k):\n",
    "    pass    # This is just a line to make this run -- remove it before you right any code.\n",
    "\n",
    "for k in [0, 1, 2, 3, 4]:\n",
    "    print(k, probability_sixes(k))"
   ]
  },
  {
   "attachments": {},
   "cell_type": "markdown",
   "id": "cell-lec14-29",
   "metadata": {},
   "source": [
    "### Challenge Question 1 ###\n",
    "\n",
    "I have a deck of 52 cards. It contains four aces, one of which is the ace of hearts.\n",
    "\n",
    "I shuffle the deck and deal 13 cards. \n",
    "\n",
    "**Without calculation:** What is the chance that the 12th card is the ace of hearts?"
   ]
  }
 ],
 "metadata": {
  "kernelspec": {
   "display_name": "Python 3 (ipykernel)",
   "language": "python",
   "name": "python3"
  },
  "language_info": {
   "codemirror_mode": {
    "name": "ipython",
    "version": 3
   },
   "file_extension": ".py",
   "mimetype": "text/x-python",
   "name": "python",
   "nbconvert_exporter": "python",
   "pygments_lexer": "ipython3",
   "version": "3.11.9"
  }
 },
 "nbformat": 4,
 "nbformat_minor": 5
}
