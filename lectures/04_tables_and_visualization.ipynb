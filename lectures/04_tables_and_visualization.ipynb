{
 "cells": [
  {
   "cell_type": "code",
   "execution_count": null,
   "id": "2a73f53f-0904-43f2-bd57-6ca6493d3b0c",
   "metadata": {},
   "outputs": [],
   "source": [
    "from datascience import *\n",
    "import numpy as np\n",
    "%matplotlib inline"
   ]
  },
  {
   "cell_type": "markdown",
   "id": "2d5538df-49e2-4d0f-b322-247a4c182887",
   "metadata": {},
   "source": [
    "<h3> Reading the census data </h3>"
   ]
  },
  {
   "cell_type": "code",
   "execution_count": null,
   "id": "dedca190-9667-43e6-b4b0-46dac216c0b4",
   "metadata": {},
   "outputs": [],
   "source": [
    "data = 'http://www2.census.gov/programs-surveys/popest/technical-documentation/file-layouts/2010-2019/nc-est2019-agesex-res.csv'\n",
    "full_census_table = Table.read_table(data)\n",
    "#full_census_table.show()\n",
    "\n",
    "female = full_census_table.where('SEX', 2).select('SEX', 'AGE', 'CENSUS2010POP')\n",
    "male = full_census_table.where('SEX', 1).select('SEX', 'AGE', 'CENSUS2010POP')\n",
    "#male.sort(...)"
   ]
  },
  {
   "cell_type": "code",
   "execution_count": null,
   "id": "e1c0d5df-6803-4e4e-8c63-05f48da92237",
   "metadata": {},
   "outputs": [],
   "source": [
    "# Now let's plot this to see how the populations change over time!\n",
    "female.where('AGE', are.below(200)).plot('AGE', 'CENSUS2010POP')\n",
    "male.where('AGE', are.below(200)).plot('AGE', 'CENSUS2010POP')"
   ]
  },
  {
   "cell_type": "code",
   "execution_count": null,
   "id": "af822c35-4ebf-42e0-83b8-b02271830e3b",
   "metadata": {},
   "outputs": [],
   "source": [
    "# Building our first visualization!\n",
    "\n",
    "# Start by building a table that has all the relevant data:\n",
    "pop_by_sex = Table().with_columns(\n",
    "    'AGE', female.column('AGE'),\n",
    "    'FEMALE POPULATION', female.column('CENSUS2010POP'),\n",
    "    'MALE POPULATION', male.column('CENSUS2010POP')\n",
    ")\n",
    "\n",
    "pop_by_sex.where('AGE', are.below(200)).plot('AGE')"
   ]
  },
  {
   "cell_type": "code",
   "execution_count": null,
   "id": "4791b153-3ca2-40bf-ad1d-0deceeca6748",
   "metadata": {},
   "outputs": [],
   "source": [
    "# Exploring sex ratios\n",
    "\n",
    "# Start by building a table that has all the relevant data:\n",
    "pop_by_sex_with_ratio = Table().with_columns(\n",
    "    'AGE', female.column('AGE'),\n",
    "    'FEMALE POPULATION', female.column('CENSUS2010POP'),\n",
    "    'MALE POPULATION', male.column('CENSUS2010POP'),\n",
    "    'RATIO', female.column('CENSUS2010POP') / male.column('CENSUS2010POP')\n",
    ")\n",
    "\n",
    "pop_by_sex_with_ratio.where('AGE', are.below(200)).plot('AGE', 'RATIO')"
   ]
  }
 ],
 "metadata": {
  "kernelspec": {
   "display_name": "Python 3 (ipykernel)",
   "language": "python",
   "name": "python3"
  },
  "language_info": {
   "codemirror_mode": {
    "name": "ipython",
    "version": 3
   },
   "file_extension": ".py",
   "mimetype": "text/x-python",
   "name": "python",
   "nbconvert_exporter": "python",
   "pygments_lexer": "ipython3",
   "version": "3.11.9"
  }
 },
 "nbformat": 4,
 "nbformat_minor": 5
}
